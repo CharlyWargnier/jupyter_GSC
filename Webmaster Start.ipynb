{
 "cells": [
  {
   "cell_type": "code",
   "execution_count": 16,
   "metadata": {},
   "outputs": [
    {
     "name": "stderr",
     "output_type": "stream",
     "text": [
      "__init__() takes at most 4 positional arguments (5 given)\n"
     ]
    },
    {
     "name": "stdout",
     "output_type": "stream",
     "text": [
      "Go to the following link in your browser: https://accounts.google.com/o/oauth2/v2/auth?client_id=1098023451168-irepb3tq7bbghm7aak97tcui6gpqjfen.apps.googleusercontent.com&redirect_uri=urn%3Aietf%3Awg%3Aoauth%3A2.0%3Aoob&scope=https%3A%2F%2Fwww.googleapis.com%2Fauth%2Fwebmasters.readonly&access_type=offline&response_type=code\n"
     ]
    }
   ],
   "source": [
    "import httplib2\n",
    "from apiclient import errors\n",
    "from apiclient.discovery import build\n",
    "from oauth2client.client import OAuth2WebServerFlow\n",
    "import os\n",
    "from dotenv import load_dotenv\n",
    "project_folder = os.path.expanduser('/Users/oleksandrdagayev/code/jupyter_SEO/')  # adjust as appropriate\n",
    "load_dotenv(os.path.join(project_folder, '.env'))\n",
    "\n",
    "# Redirect URI for installed apps\n",
    "REDIRECT_URI = 'urn:ietf:wg:oauth:2.0:oob'\n",
    "\n",
    "CLIENT_ID = os.getenv('CLIENT_ID')\n",
    "CLIENT_SECRET = os.getenv('CLIENT_SECRET')\n",
    "\n",
    "OAUTH_SCOPE = 'https://www.googleapis.com/auth/webmasters.readonly'\n",
    "\n",
    "# Run through the OAuth flow and retrieve credentials\n",
    "flow = OAuth2WebServerFlow(CLIENT_ID, CLIENT_SECRET, OAUTH_SCOPE, REDIRECT_URI)\n",
    "authorize_url = flow.step1_get_authorize_url()\n",
    "print('Go to the following link in your browser: ' + authorize_url)\n"
   ]
  },
  {
   "cell_type": "code",
   "execution_count": null,
   "metadata": {},
   "outputs": [],
   "source": [
    "#the above gets you to the credential setp."
   ]
  },
  {
   "cell_type": "code",
   "execution_count": 22,
   "metadata": {},
   "outputs": [
    {
     "name": "stdout",
     "output_type": "stream",
     "text": [
      "4/vgHk8RIIKcj7bxc_UVuQwx3rbFGXA1-4wW1no-kDh9oOqY-tf2c2Xr4\n"
     ]
    }
   ],
   "source": [
    "code = \"4/vgHk8RIIKcj7bxc_UVuQwx3rbFGXA1-4wW1no-kDh9oOqY-tf2c2Xr4\"\n",
    "credentials = flow.step2_exchange(code)\n",
    "\n",
    "# Create an httplib2.Http object and authorize it with our credentials\n",
    "http = httplib2.Http()\n",
    "http = credentials.authorize(http)\n",
    "\n",
    "webmasters_service = build('webmasters', 'v3', http=http)\n",
    "\n",
    "# Retrieve list of properties in account\n",
    "site_list = webmasters_service.sites().list().execute()"
   ]
  },
  {
   "cell_type": "code",
   "execution_count": 24,
   "metadata": {
    "scrolled": false
   },
   "outputs": [
    {
     "name": "stdout",
     "output_type": "stream",
     "text": [
      "{'siteEntry': [{'siteUrl': 'https://naturebox.com/', 'permissionLevel': 'siteUnverifiedUser'}, {'siteUrl': 'http://www.truefacet.com/', 'permissionLevel': 'siteFullUser'}, {'siteUrl': 'https://doctor.zwivel.com/', 'permissionLevel': 'siteRestrictedUser'}, {'siteUrl': 'https://squareup.com/', 'permissionLevel': 'siteRestrictedUser'}, {'siteUrl': 'http://articles.onlineautoinsurance.com/', 'permissionLevel': 'siteFullUser'}, {'siteUrl': 'http://onlineautoinsurance.com/', 'permissionLevel': 'siteFullUser'}, {'siteUrl': 'https://wikibuy.com/', 'permissionLevel': 'siteFullUser'}, {'siteUrl': 'https://amino.com/', 'permissionLevel': 'siteRestrictedUser'}, {'siteUrl': 'http://www.integrativenutrition.com/', 'permissionLevel': 'siteRestrictedUser'}, {'siteUrl': 'http://nubank.com.br/', 'permissionLevel': 'siteFullUser'}, {'siteUrl': 'http://truefacet.com/', 'permissionLevel': 'siteFullUser'}, {'siteUrl': 'http://www.worldmarket.com/blog/', 'permissionLevel': 'siteRestrictedUser'}, {'siteUrl': 'https://nestio.com/', 'permissionLevel': 'siteRestrictedUser'}, {'siteUrl': 'https://www.startupthreads.com/', 'permissionLevel': 'siteRestrictedUser'}, {'siteUrl': 'https://autoinsurance.com/', 'permissionLevel': 'siteFullUser'}, {'siteUrl': 'https://townsquared.com/', 'permissionLevel': 'siteFullUser'}, {'siteUrl': 'http://www.hbs.edu/', 'permissionLevel': 'siteRestrictedUser'}, {'siteUrl': 'http://www.celebritynetworth.com/', 'permissionLevel': 'siteRestrictedUser'}, {'siteUrl': 'https://www.truefacet.com/', 'permissionLevel': 'siteFullUser'}, {'siteUrl': 'http://reviews.onlineautoinsurance.com/', 'permissionLevel': 'siteFullUser'}, {'siteUrl': 'http://www.worldmarket.com/', 'permissionLevel': 'siteRestrictedUser'}, {'siteUrl': 'https://www.avenues.org/', 'permissionLevel': 'siteFullUser'}, {'siteUrl': 'https://www.uniqlo.com/us/en/', 'permissionLevel': 'siteRestrictedUser'}, {'siteUrl': 'https://www.fundera.com/', 'permissionLevel': 'siteRestrictedUser'}, {'siteUrl': 'https://www.coursereport.com/', 'permissionLevel': 'siteFullUser'}, {'siteUrl': 'http://news.onlineautoinsurance.com/', 'permissionLevel': 'siteFullUser'}, {'siteUrl': 'https://www.ngpf.org/', 'permissionLevel': 'siteRestrictedUser'}, {'siteUrl': 'http://www.uniqlo.com/us/', 'permissionLevel': 'siteRestrictedUser'}, {'siteUrl': 'sc-domain:precisionveterinary.com', 'permissionLevel': 'siteFullUser'}]}\n"
     ]
    }
   ],
   "source": [
    "print(site_list)"
   ]
  },
  {
   "cell_type": "code",
   "execution_count": null,
   "metadata": {},
   "outputs": [],
   "source": []
  },
  {
   "cell_type": "code",
   "execution_count": null,
   "metadata": {},
   "outputs": [],
   "source": []
  },
  {
   "cell_type": "code",
   "execution_count": null,
   "metadata": {},
   "outputs": [],
   "source": []
  },
  {
   "cell_type": "code",
   "execution_count": null,
   "metadata": {},
   "outputs": [],
   "source": []
  }
 ],
 "metadata": {
  "kernelspec": {
   "display_name": "Python 3",
   "language": "python",
   "name": "python3"
  },
  "language_info": {
   "codemirror_mode": {
    "name": "ipython",
    "version": 3
   },
   "file_extension": ".py",
   "mimetype": "text/x-python",
   "name": "python",
   "nbconvert_exporter": "python",
   "pygments_lexer": "ipython3",
   "version": "3.7.5"
  }
 },
 "nbformat": 4,
 "nbformat_minor": 4
}
