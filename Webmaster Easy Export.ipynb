{
 "cells": [
  {
   "cell_type": "code",
   "execution_count": null,
   "metadata": {},
   "outputs": [],
   "source": [
    "import httplib2\n",
    "from apiclient import errors\n",
    "from apiclient.discovery import build\n",
    "from oauth2client.client import OAuth2WebServerFlow\n",
    "import os\n",
    "from dotenv import load_dotenv\n",
    "project_folder = os.path.expanduser('/Users/oleksandrdagayev/code/jupyter_SEO/')  # adjust as appropriate\n",
    "load_dotenv(os.path.join(project_folder, '.env'))"
   ]
  },
  {
   "cell_type": "code",
   "execution_count": null,
   "metadata": {},
   "outputs": [],
   "source": [
    "# Redirect URI for installed apps\n",
    "REDIRECT_URI = 'urn:ietf:wg:oauth:2.0:oob'\n",
    "\n",
    "CLIENT_ID = os.getenv('CLIENT_ID')\n",
    "CLIENT_SECRET = os.getenv('CLIENT_SECRET')\n",
    "\n",
    "OAUTH_SCOPE = 'https://www.googleapis.com/auth/webmasters.readonly'\n",
    "\n",
    "# Run through the OAuth flow and retrieve credentials\n",
    "flow = OAuth2WebServerFlow(CLIENT_ID, CLIENT_SECRET, OAUTH_SCOPE, REDIRECT_URI)\n",
    "authorize_url = flow.step1_get_authorize_url()\n",
    "print('Go to the following link in your browser: ' + authorize_url)"
   ]
  },
  {
   "cell_type": "code",
   "execution_count": null,
   "metadata": {},
   "outputs": [],
   "source": [
    "#the above gets you to the credential setp."
   ]
  },
  {
   "cell_type": "code",
   "execution_count": null,
   "metadata": {},
   "outputs": [],
   "source": [
    "code = \"4/vgEH_g1S2ZrCTNtI7-a572B5F_Y1z3NdA116pG0DKY8qLTf1QfdzDJI\"\n",
    "credentials = flow.step2_exchange(code)\n",
    "\n",
    "# Create an httplib2.Http object and authorize it with our credentials\n",
    "http = httplib2.Http()\n",
    "http = credentials.authorize(http)\n",
    "\n",
    "webmasters_service = build('webmasters', 'v3', http=http)\n",
    "\n",
    "# Retrieve list of properties in account\n",
    "site_list = webmasters_service.sites().list().execute()"
   ]
  },
  {
   "cell_type": "code",
   "execution_count": null,
   "metadata": {},
   "outputs": [],
   "source": [
    "webmaster_search_analytics = build('webmasters', 'v3', http=http)"
   ]
  },
  {
   "cell_type": "code",
   "execution_count": null,
   "metadata": {},
   "outputs": [],
   "source": [
    "targetdomain = '' #specify your domain here. Make sure to include protocol and if domain is www. or not. "
   ]
  },
  {
   "cell_type": "code",
   "execution_count": null,
   "metadata": {},
   "outputs": [],
   "source": []
  },
  {
   "cell_type": "code",
   "execution_count": null,
   "metadata": {},
   "outputs": [],
   "source": [
    "request = {\n",
    "    'startDate': '2020-01-15', #all requests must include a start AND end date\n",
    "    'endDate': '2020-01-17',\n",
    "    'dimensions': ['date','query','page'], #select the dimensions of your response\n",
    "    'rowLimit':25000,\n",
    "    'startRow':25001\n",
    "      }"
   ]
  },
  {
   "cell_type": "code",
   "execution_count": null,
   "metadata": {},
   "outputs": [],
   "source": [
    "response = webmaster_search_analytics.searchanalytics().query(siteUrl=targetdomain,body=request).execute()"
   ]
  },
  {
   "cell_type": "code",
   "execution_count": null,
   "metadata": {},
   "outputs": [],
   "source": [
    "import numpy as bp\n",
    "import pandas as pd\n",
    "import json\n",
    "from collections import defaultdict as dd"
   ]
  },
  {
   "cell_type": "code",
   "execution_count": null,
   "metadata": {},
   "outputs": [],
   "source": [
    "data = {'date':[],'searchQuery':[],'page':[], 'clicks':[],'impressions':[],'ctr':[], 'position':[]}\n",
    "    \n",
    "for i in response['rows']:\n",
    "    date = i['keys'][0] #assumes that date is first\n",
    "    data['date'].append(date)\n",
    "    searchQuery = i['keys'][1] #assumes that query is second\n",
    "    data['searchQuery'].append(searchQuery)\n",
    "    page = i['keys'][2] #assumes that query is second\n",
    "    data['page'].append(page)\n",
    "    clicks = i['clicks']\n",
    "    data['clicks'].append(clicks)\n",
    "    impressions = i['impressions']\n",
    "    data['impressions'].append(impressions)\n",
    "    ctr = i['ctr']\n",
    "    data['ctr'].append(ctr)\n",
    "    position = i['position']\n",
    "    data['position'].append(position)"
   ]
  },
  {
   "cell_type": "code",
   "execution_count": null,
   "metadata": {
    "scrolled": true
   },
   "outputs": [],
   "source": [
    "pd.DataFrame(data)"
   ]
  },
  {
   "cell_type": "code",
   "execution_count": null,
   "metadata": {},
   "outputs": [],
   "source": []
  }
 ],
 "metadata": {
  "kernelspec": {
   "display_name": "Python 3",
   "language": "python",
   "name": "python3"
  },
  "language_info": {
   "codemirror_mode": {
    "name": "ipython",
    "version": 3
   },
   "file_extension": ".py",
   "mimetype": "text/x-python",
   "name": "python",
   "nbconvert_exporter": "python",
   "pygments_lexer": "ipython3",
   "version": "3.7.5"
  }
 },
 "nbformat": 4,
 "nbformat_minor": 4
}
